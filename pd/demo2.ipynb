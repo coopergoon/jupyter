{
 "cells": [
  {
   "cell_type": "code",
   "execution_count": 2,
   "metadata": {},
   "outputs": [],
   "source": [
    "import pandas as pd"
   ]
  },
  {
   "cell_type": "code",
   "execution_count": 4,
   "metadata": {
    "scrolled": true
   },
   "outputs": [
    {
     "name": "stdout",
     "output_type": "stream",
     "text": [
      "a  m    1\n",
      "b  b    2\n",
      "c  n    3\n",
      "Name: p1, dtype: int64\n"
     ]
    }
   ],
   "source": [
    "a1 = [1,2,3]\n",
    "a2= [\"a\", \"b\", \"c\"]\n",
    "a3 = ['m', 'b', 'n']\n",
    "p = pd.Series(data=a1, index=[a2, a3], name = 'p1')\n",
    "# index 是索引 属于索引列\n",
    "# data是数据    属于第二列\n",
    "print(p)"
   ]
  },
  {
   "cell_type": "code",
   "execution_count": 19,
   "metadata": {
    "scrolled": true
   },
   "outputs": [
    {
     "name": "stdout",
     "output_type": "stream",
     "text": [
      "Index(['a', 'b', 'c'], dtype='object')\n"
     ]
    }
   ],
   "source": [
    "print(p.index)  # 打印索引列 \n",
    "print(p.name)"
   ]
  },
  {
   "cell_type": "code",
   "execution_count": 11,
   "metadata": {},
   "outputs": [
    {
     "name": "stdout",
     "output_type": "stream",
     "text": [
      "    0  1  2     3\n",
      "a1  1  2  3  None\n",
      "a2  a  b  c     d\n"
     ]
    }
   ],
   "source": [
    "# 只传data， 不给列索引或者行索引，会默认从0开始  \n",
    "\n",
    "a1 = [\n",
    "    [1,2,3],\n",
    "    [\"a\", 'b','c', 'd']\n",
    "]\n",
    "# index 列索引 对应的是data的list的长度   \n",
    "# columns 行索引， 对应的是data的list的个数\n",
    "\n",
    "d = pd.DataFrame(data=a1, index=['a1', 'a2'])\n",
    "print(d)\n",
    "\n"
   ]
  },
  {
   "cell_type": "code",
   "execution_count": 29,
   "metadata": {
    "scrolled": false
   },
   "outputs": [
    {
     "name": "stdout",
     "output_type": "stream",
     "text": [
      "  p1  p2  p3  p4  p5\n",
      "0  a   1   2   3   5\n",
      "1  2   3   4   5   6\n",
      "[['a' 1 2 3 5]\n",
      " ['2' 3 4 5 6]]\n"
     ]
    }
   ],
   "source": [
    "# header=None  如果不设置header会将第一行作为头， 设置之后第一行作为数据\n",
    "# names=['p1', 'p2', 'p3', 'p4', 'p5'] names的长度必须和列数相同， 如果不一致，会导致第一列作为了行索引  \n",
    "\n",
    "\n",
    "data = pd.read_csv('./data/test.csv', sep='*', header=None, names=['p1', 'p2', 'p3', 'p4', 'p5'], index_col=None)\n",
    "print(data)\n",
    "print(data.values)"
   ]
  },
  {
   "cell_type": "markdown",
   "metadata": {},
   "source": []
  },
  {
   "cell_type": "code",
   "execution_count": 45,
   "metadata": {},
   "outputs": [
    {
     "name": "stdout",
     "output_type": "stream",
     "text": [
      "    a2  b2  c2\n",
      "a1   1   2   3\n",
      "b1   4   5   6\n"
     ]
    }
   ],
   "source": [
    "p = pd.DataFrame(data=[[1,2, 3], [4,5, 6]], index=['a1', 'b1'], columns=['a2', 'b2', 'c2'])\n",
    "print(p)\n",
    "print(p.sum(axis='in'))"
   ]
  },
  {
   "cell_type": "code",
   "execution_count": null,
   "metadata": {},
   "outputs": [],
   "source": []
  }
 ],
 "metadata": {
  "kernelspec": {
   "display_name": "Python 3",
   "language": "python",
   "name": "python3"
  },
  "language_info": {
   "codemirror_mode": {
    "name": "ipython",
    "version": 3
   },
   "file_extension": ".py",
   "mimetype": "text/x-python",
   "name": "python",
   "nbconvert_exporter": "python",
   "pygments_lexer": "ipython3",
   "version": "3.7.3"
  }
 },
 "nbformat": 4,
 "nbformat_minor": 2
}
