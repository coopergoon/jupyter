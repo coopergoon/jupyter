{
 "cells": [
  {
   "cell_type": "code",
   "execution_count": 2,
   "metadata": {},
   "outputs": [],
   "source": [
    "import pandas as pd"
   ]
  },
  {
   "cell_type": "code",
   "execution_count": 4,
   "metadata": {
    "scrolled": true
   },
   "outputs": [
    {
     "name": "stdout",
     "output_type": "stream",
     "text": [
      "a  m    1\n",
      "b  b    2\n",
      "c  n    3\n",
      "Name: p1, dtype: int64\n"
     ]
    }
   ],
   "source": [
    "a1 = [1,2,3]\n",
    "a2= [\"a\", \"b\", \"c\"]\n",
    "a3 = ['m', 'b', 'n']\n",
    "p = pd.Series(data=a1, index=[a2, a3], name = 'p1')\n",
    "# index 是索引 属于索引列\n",
    "# data是数据    属于第二列\n",
    "print(p)"
   ]
  },
  {
   "cell_type": "code",
   "execution_count": 19,
   "metadata": {
    "scrolled": true
   },
   "outputs": [
    {
     "name": "stdout",
     "output_type": "stream",
     "text": [
      "Index(['a', 'b', 'c'], dtype='object')\n"
     ]
    }
   ],
   "source": [
    "print(p.index)  # 打印索引列 \n",
    "print(p.name)"
   ]
  },
  {
   "cell_type": "code",
   "execution_count": 11,
   "metadata": {},
   "outputs": [
    {
     "name": "stdout",
     "output_type": "stream",
     "text": [
      "    0  1  2     3\n",
      "a1  1  2  3  None\n",
      "a2  a  b  c     d\n"
     ]
    }
   ],
   "source": [
    "# 只传data， 不给列索引或者行索引，会默认从0开始  \n",
    "\n",
    "a1 = [\n",
    "    [1,2,3],\n",
    "    [\"a\", 'b','c', 'd']\n",
    "]\n",
    "# index 列索引 对应的是data的list的长度   \n",
    "# columns 行索引， 对应的是data的list的个数\n",
    "\n",
    "d = pd.DataFrame(data=a1, index=['a1', 'a2'])\n",
    "print(d)\n",
    "\n"
   ]
  },
  {
   "cell_type": "code",
   "execution_count": null,
   "metadata": {},
   "outputs": [],
   "source": []
  }
 ],
 "metadata": {
  "kernelspec": {
   "display_name": "Python 3",
   "language": "python",
   "name": "python3"
  },
  "language_info": {
   "codemirror_mode": {
    "name": "ipython",
    "version": 3
   },
   "file_extension": ".py",
   "mimetype": "text/x-python",
   "name": "python",
   "nbconvert_exporter": "python",
   "pygments_lexer": "ipython3",
   "version": "3.7.3"
  }
 },
 "nbformat": 4,
 "nbformat_minor": 2
}
