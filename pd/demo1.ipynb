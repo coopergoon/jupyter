{
 "cells": [
  {
   "cell_type": "code",
   "execution_count": 32,
   "metadata": {},
   "outputs": [],
   "source": [
    "import matplotlib.pyplot as plt\n",
    "import pandas as pd\n",
    "import numpy as np\n",
    "import seaborn as sns\n"
   ]
  },
  {
   "cell_type": "code",
   "execution_count": 33,
   "metadata": {
    "scrolled": true
   },
   "outputs": [],
   "source": [
    "x = [-2, 2, -2, 2]\n",
    "y = [-4, 4, 0.5, 2.5]"
   ]
  },
  {
   "cell_type": "code",
   "execution_count": 34,
   "metadata": {},
   "outputs": [
    {
     "name": "stdout",
     "output_type": "stream",
     "text": [
      "[-2, 2] [-4, 4] [-2, 2] [0.5, 2.5]\n"
     ]
    }
   ],
   "source": [
    "fig = plt.figure()\n",
    "plt.axhline(y=0, c='black')  # 画出 x轴\n",
    "plt.axvline(x=0, c='black')  # 画出 y轴\n",
    "# plt.plot(x[:2], y[:2], x[2:], y[2:])\n",
    "print(x[:2], y[:2], x[2:], y[2:])\n",
    "plt.plot(x[:2], y[:2])\n",
    "plt.plot(x[2:], y[2:])\n",
    "plt.draw()\n",
    "plt.close()\n"
   ]
  },
  {
   "cell_type": "code",
   "execution_count": 50,
   "metadata": {},
   "outputs": [],
   "source": [
    "a1 = np.arange(0, 10)\n",
    "#y = np.tan(a1)\n",
    "# a1 = 2\n",
    "y = (3 * a1 ^2 ) - 120\n"
   ]
  },
  {
   "cell_type": "code",
   "execution_count": 51,
   "metadata": {},
   "outputs": [
    {
     "data": {
      "text/plain": [
       "[<matplotlib.lines.Line2D at 0x11bfaae48>]"
      ]
     },
     "execution_count": 51,
     "metadata": {},
     "output_type": "execute_result"
    },
    {
     "data": {
      "image/png": "[encoded data removed]",
      "text/plain": [
       "<Figure size 432x288 with 1 Axes>"
      ]
     },
     "metadata": {
      "needs_background": "light"
     },
     "output_type": "display_data"
    }
   ],
   "source": [
    "plt.plot(a1, y)\n",
    "# plt.show()"
   ]
  },
  {
   "cell_type": "code",
   "execution_count": 35,
   "metadata": {
    "scrolled": true
   },
   "outputs": [
    {
     "data": {
      "image/png": "[encoded data removed]",
      "text/plain": [
       "<Figure size 432x288 with 1 Axes>"
      ]
     },
     "metadata": {
      "needs_background": "light"
     },
     "output_type": "display_data"
    }
   ],
   "source": [
    "import numpy as np\n",
    "import matplotlib.pyplot as plt\n",
    "\n",
    "fig = plt.figure()\n",
    "x1 = np.arange(-4, 5, 0.1);\n",
    "# y = np.sin(x1)\n",
    "plt.axvline(x=0, c='red')   # 画出x轴\n",
    "plt.axhline(y=0, c='green') # 画出y轴 \n",
    "y = -x1 \n",
    "x2 = [1,2,3]\n",
    "y2 = [112,4, 6]\n",
    "x3 = [2,2,3]\n",
    "y3 = [12,4,5]\n",
    "# print(x1, y)\n",
    "plt.plot(x2, y2, x3, y3)\n",
    "plt.show()"
   ]
  },
  {
   "cell_type": "code",
   "execution_count": 14,
   "metadata": {},
   "outputs": [
    {
     "name": "stdout",
     "output_type": "stream",
     "text": [
      "3.141592653589793\n"
     ]
    }
   ],
   "source": [
    "print(np.pi)"
   ]
  },
  {
   "cell_type": "code",
   "execution_count": null,
   "metadata": {},
   "outputs": [],
   "source": []
  }
 ],
 "metadata": {
  "kernelspec": {
   "display_name": "Python 3",
   "language": "python",
   "name": "python3"
  },
  "language_info": {
   "codemirror_mode": {
    "name": "ipython",
    "version": 3
   },
   "file_extension": ".py",
   "mimetype": "text/x-python",
   "name": "python",
   "nbconvert_exporter": "python",
   "pygments_lexer": "ipython3",
   "version": "3.7.3"
  }
 },
 "nbformat": 4,
 "nbformat_minor": 2
}
